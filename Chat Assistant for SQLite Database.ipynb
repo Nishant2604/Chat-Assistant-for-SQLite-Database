{
 "cells": [
  {
   "cell_type": "code",
   "execution_count": 21,
   "id": "48332cf3",
   "metadata": {},
   "outputs": [
    {
     "ename": "SyntaxError",
     "evalue": "invalid syntax (397759432.py, line 1)",
     "output_type": "error",
     "traceback": [
      "\u001b[1;36m  Cell \u001b[1;32mIn[21], line 1\u001b[1;36m\u001b[0m\n\u001b[1;33m    Step 1: Set Up the SQLite Database\u001b[0m\n\u001b[1;37m         ^\u001b[0m\n\u001b[1;31mSyntaxError\u001b[0m\u001b[1;31m:\u001b[0m invalid syntax\n"
     ]
    }
   ],
   "source": [
    "  Step 1: Set Up the SQLite Database\n",
    "        Create an SQLite database (company.db) with the two tables (Employees and Departments)."
   ]
  },
  {
   "cell_type": "code",
   "execution_count": null,
   "id": "361e8130",
   "metadata": {},
   "outputs": [],
   "source": [
    "import sqlite3\n",
    "\n",
    "# Connect to SQLite database\n",
    "conn = sqlite3.connect(\"company.db\")\n",
    "# This creates a database file in the same directory.\n",
    "\n",
    "Cursor = connCursor().\n",
    "\n",
    "print(\"connection to the database was established successfully!\""
   ]
  },
  {
   "cell_type": "code",
   "execution_count": 23,
   "id": "adf9d18a",
   "metadata": {},
   "outputs": [
    {
     "ename": "NameError",
     "evalue": "name 'cursor' is not defined",
     "output_type": "error",
     "traceback": [
      "\u001b[1;31m---------------------------------------------------------------------------\u001b[0m",
      "\u001b[1;31mNameError\u001b[0m                                 Traceback (most recent call last)",
      "Cell \u001b[1;32mIn[23], line 2\u001b[0m\n\u001b[0;32m      1\u001b[0m \u001b[38;5;66;03m# Create Employees table\u001b[39;00m\n\u001b[1;32m----> 2\u001b[0m cursor\u001b[38;5;241m.\u001b[39mexecute(\u001b[38;5;124m'''\u001b[39m\n\u001b[0;32m      3\u001b[0m \u001b[38;5;124mCREATE TABLE IF NOT EXISTS Employees (\u001b[39m\n\u001b[0;32m      4\u001b[0m \u001b[38;5;124mID INTEGER PRIMARY KEY,\u001b[39m\n\u001b[0;32m      5\u001b[0m \u001b[38;5;124mName TEXT,\u001b[39m\n\u001b[0;32m      6\u001b[0m \u001b[38;5;124mDepartment TEXT,\u001b[39m\n\u001b[0;32m      7\u001b[0m \u001b[38;5;124mSalary INTEGER,\u001b[39m\n\u001b[0;32m      8\u001b[0m \u001b[38;5;124mHire_Date TEXT\u001b[39m\n\u001b[0;32m      9\u001b[0m \u001b[38;5;124m)\u001b[39m\n\u001b[0;32m     10\u001b[0m \u001b[38;5;124m'''\u001b[39m)\n\u001b[0;32m     12\u001b[0m \u001b[38;5;66;03m# Create Departments table\u001b[39;00m\n\u001b[0;32m     13\u001b[0m cursor\u001b[38;5;241m.\u001b[39mexecute(\u001b[38;5;124m'''\u001b[39m\n\u001b[0;32m     14\u001b[0m \u001b[38;5;124mCREATE TABLE IF NOT EXISTS Departments (\u001b[39m\n\u001b[0;32m     15\u001b[0m \u001b[38;5;124mID INTEGER PRIMARY KEY,\u001b[39m\n\u001b[1;32m   (...)\u001b[0m\n\u001b[0;32m     18\u001b[0m \u001b[38;5;124m)\u001b[39m\n\u001b[0;32m     19\u001b[0m \u001b[38;5;124m'''\u001b[39m)\n",
      "\u001b[1;31mNameError\u001b[0m: name 'cursor' is not defined"
     ]
    }
   ],
   "source": [
    "# Create Employees table\n",
    "cursor.execute('''\n",
    "CREATE TABLE IF NOT EXISTS Employees (\n",
    "ID INTEGER PRIMARY KEY,\n",
    "Name TEXT,\n",
    "Department TEXT,\n",
    "Salary INTEGER,\n",
    "Hire_Date TEXT\n",
    ")\n",
    "''')\n",
    "\n",
    "# Create Departments table\n",
    "cursor.execute('''\n",
    "CREATE TABLE IF NOT EXISTS Departments (\n",
    "ID INTEGER PRIMARY KEY,\n",
    "Name TEXT,\n",
    "Manager TEXT\n",
    ")\n",
    "''')\n",
    "\n",
    "print(\"Tables created successfully!\")"
   ]
  },
  {
   "cell_type": "code",
   "execution_count": 18,
   "id": "a97ff7db",
   "metadata": {},
   "outputs": [
    {
     "ename": "SyntaxError",
     "evalue": "unterminated string literal (detected at line 2) (3044557101.py, line 2)",
     "output_type": "error",
     "traceback": [
      "\u001b[1;36m  Cell \u001b[1;32mIn[18], line 2\u001b[1;36m\u001b[0m\n\u001b[1;33m    cursor.executemany('','\u001b[0m\n\u001b[1;37m                          ^\u001b[0m\n\u001b[1;31mSyntaxError\u001b[0m\u001b[1;31m:\u001b[0m unterminated string literal (detected at line 2)\n"
     ]
    }
   ],
   "source": [
    "Insert dummy data into the Employees table\n",
    "cursor.executemany('','\n",
    "INSERT INTO Employees (ID, Name, Department, Salary, Hire_Date)\n",
    "VALUES (?,?,?,?,?)\n",
    "', [\n",
    "(1, \"Alice\", \"Sales\", 50000, \"2021-01-15\"),\n",
    "(2, \"Bob\", \"Engineering\", 70000, \"2020-06-10\"),\n",
    "(3, \"Charlie\", \"Marketing\", 60000, \"2022-03-20\")\n",
    "])\n",
    "\n",
    "Insert dummy data into Departments table\n",
    "cursor.executemany('','\n",
    "INSERT INTO Departments (ID, Name, Manager)\n",
    "VALUES (?,?,?)\n",
    "', [\n",
    "(1, \"Sales\", \"Alice\"),\n",
    "(2, \"Engineering\", \"Bob\"),\n",
    "(3, \"Marketing\", \"Charlie\")\n",
    "])\n",
    "conn.commit() # Save changes\n",
    "print(\"Data inserted successfully!\")\n"
   ]
  },
  {
   "cell_type": "code",
   "execution_count": 19,
   "id": "9892a28c",
   "metadata": {},
   "outputs": [
    {
     "ename": "SyntaxError",
     "evalue": "unterminated string literal (detected at line 9) (1328459183.py, line 9)",
     "output_type": "error",
     "traceback": [
      "\u001b[1;36m  Cell \u001b[1;32mIn[19], line 9\u001b[1;36m\u001b[0m\n\u001b[1;33m    print(\"Employees Table:\u001b[0m\n\u001b[1;37m          ^\u001b[0m\n\u001b[1;31mSyntaxError\u001b[0m\u001b[1;31m:\u001b[0m unterminated string literal (detected at line 9)\n"
     ]
    }
   ],
   "source": [
    "\n",
    "# Fetch and print the records in the Employees table\n",
    "cursor.execute(\"SELECT * FROM Employees\")\n",
    "employees = cursor.fetchall()\n",
    "\n",
    "# Fetch and print the records in the Departments table\n",
    "cursor.execute(\"SELECT * FROM Departments\")\n",
    "departments = cursor.fetchall()\n",
    "\n",
    "print(\"Employees Table:\n",
    "\", employees)\n",
    "print(\"\n",
    "Departments Table:\n",
    "\", departments"
   ]
  },
  {
   "cell_type": "code",
   "execution_count": 20,
   "id": "ac03555d",
   "metadata": {},
   "outputs": [
    {
     "ename": "NameError",
     "evalue": "name 'conn' is not defined",
     "output_type": "error",
     "traceback": [
      "\u001b[1;31m---------------------------------------------------------------------------\u001b[0m",
      "\u001b[1;31mNameError\u001b[0m                                 Traceback (most recent call last)",
      "Cell \u001b[1;32mIn[20], line 1\u001b[0m\n\u001b[1;32m----> 1\u001b[0m conn\u001b[38;5;241m.\u001b[39mclose()\n\u001b[0;32m      2\u001b[0m \u001b[38;5;28mprint\u001b[39m(\u001b[38;5;124m\"\u001b[39m\u001b[38;5;124mDatabase connection closed.\u001b[39m\u001b[38;5;124m\"\u001b[39m)\n",
      "\u001b[1;31mNameError\u001b[0m: name 'conn' is not defined"
     ]
    }
   ],
   "source": [
    "conn.close()\n",
    "print(\"Database connection closed.\")\n"
   ]
  },
  {
   "cell_type": "code",
   "execution_count": null,
   "id": "79c5cd37",
   "metadata": {},
   "outputs": [],
   "source": [
    "Step 2: Build the Chat Assistant Using Flask\n",
    "    \n",
    "Create a chatbot.py file to process queries."
   ]
  },
  {
   "cell_type": "code",
   "execution_count": 24,
   "id": "c2848553",
   "metadata": {},
   "outputs": [
    {
     "name": "stdout",
     "output_type": "stream",
     "text": [
      "Defaulting to user installation because normal site-packages is not writeable\n",
      "Requirement already satisfied: flask in c:\\programdata\\anaconda3\\lib\\site-packages (2.2.2)\n",
      "Requirement already satisfied: Werkzeug>=2.2.2 in c:\\programdata\\anaconda3\\lib\\site-packages (from flask) (2.2.3)\n",
      "Requirement already satisfied: Jinja2>=3.0 in c:\\programdata\\anaconda3\\lib\\site-packages (from flask) (3.1.2)\n",
      "Requirement already satisfied: itsdangerous>=2.0 in c:\\programdata\\anaconda3\\lib\\site-packages (from flask) (2.0.1)\n",
      "Requirement already satisfied: click>=8.0 in c:\\programdata\\anaconda3\\lib\\site-packages (from flask) (8.0.4)\n",
      "Requirement already satisfied: colorama in c:\\programdata\\anaconda3\\lib\\site-packages (from click>=8.0->flask) (0.4.6)\n",
      "Requirement already satisfied: MarkupSafe>=2.0 in c:\\programdata\\anaconda3\\lib\\site-packages (from Jinja2>=3.0->flask) (2.1.1)\n"
     ]
    }
   ],
   "source": [
    "!pip install flask"
   ]
  },
  {
   "cell_type": "code",
   "execution_count": 25,
   "id": "586107db",
   "metadata": {},
   "outputs": [],
   "source": [
    "from flask import Flask, request, jsonify\n",
    "import sqlite3\n",
    "import threading\n",
    "import requests\n",
    "\n",
    "# To test API within the notebook\n",
    "\n",
    "# Initialize Flask app\n",
    "app = Flask(__name__)\n",
    "\n",
    "# Function to query database\n",
    "\n",
    "def query_db(sql, params=()):\n",
    "conn = sqlite3.connect(\"company.db\")\n",
    "cursor = conn.cursor()\n",
    "cursor.execute(sql, params)\n",
    "result = cursor.fetchall()\n",
    "conn.close()\n",
    "return result"
   ]
  },
  {
   "cell_type": "code",
   "execution_count": null,
   "id": "c409d618",
   "metadata": {},
   "outputs": [],
   "source": [
    "# Natural language to SQL query conversion\n",
    "def process_query(user_input):\n",
    "    user_input = user_input.lower()\n",
    "    if \"employees in the\" in user_input and \"department\" in user_input:\n",
    "\n",
    "        dept = user_input.split(\"department\")[-1].strip()\n",
    "        sql = \"SELECT Name FROM Employees WHERE Department =?\"\n",
    "        return query_db(sql, (dept,))\n",
    "elif \"manager of the\" in user_input and \"department\" in user_input:\n",
    "        dept = user_input.split(\"department\")[-1].strip()\n",
    "        sql = \"SELECT Manager FROM Departments WHERE Name =?\"\n",
    "        return query_db(sql, (dept,))\n",
    "    elif \"employees hired after\" in user_input:\n",
    "\n",
    "date = user_input.split(\"after\")[-1].strip()\n",
    "        sql = \"SELECT Name FROM Employees WHERE Hire_Date > ?\"\n",
    "        return query_db(sql, (date,))\n",
    "    elif \"total salary expense for the\" in user_input and \"department\" in user_input:\n",
    "\n",
    "        dept = user_input.split(\"department\")[-1].strip()\n",
    "sql = \"SELECT SUM(Salary) FROM Employees WHERE Department = ?\"\n",
    "        return query_db(sql, (dept,))\n",
    "    else:\n",
    "\n",
    "        return [(\"Sorry, I didn't understand that.\",)]\n"
   ]
  },
  {
   "cell_type": "code",
   "execution_count": null,
   "id": "59fc0aab",
   "metadata": {},
   "outputs": [],
   "source": [
    "@app.route(\"/chat\", methods=[\"POST\"])\n",
    "def chat():\n",
    "user_input = request.json.get(\"query\", \"\")\n",
    "response = process_query(user_input)\n",
    "return jsonify({\"response\": response})"
   ]
  },
  {
   "cell_type": "code",
   "execution_count": null,
   "id": "36a73e84",
   "metadata": {},
   "outputs": [],
   "source": [
    "def run_flask():\n",
    "app.run(host=\\\"0.0.0.0\\\", port=5000, debug=False, use_reloader=False)\n",
    "\n",
    "# Flask in a different thread\n",
    "thread = threading.Thread(target=run_flask)\n",
    "thread.start()"
   ]
  },
  {
   "cell_type": "code",
   "execution_count": null,
   "id": "260bf5ec",
   "metadata": {},
   "outputs": [],
   "source": [
    "Step 3: Deploying the Chat Assistant"
   ]
  },
  {
   "cell_type": "code",
   "execution_count": 26,
   "id": "7ee416a0",
   "metadata": {},
   "outputs": [
    {
     "ename": "SyntaxError",
     "evalue": "invalid syntax (189281088.py, line 1)",
     "output_type": "error",
     "traceback": [
      "\u001b[1;36m  Cell \u001b[1;32mIn[26], line 1\u001b[1;36m\u001b[0m\n\u001b[1;33m    python chatbot.py\u001b[0m\n\u001b[1;37m           ^\u001b[0m\n\u001b[1;31mSyntaxError\u001b[0m\u001b[1;31m:\u001b[0m invalid syntax\n"
     ]
    }
   ],
   "source": [
    "python chatbot.py\n"
   ]
  },
  {
   "cell_type": "code",
   "execution_count": null,
   "id": "f3266688",
   "metadata": {},
   "outputs": [],
   "source": [
    "{\n",
    "    \"query\": \"Who is the manager of the Sales department?\"\n",
    "}\n"
   ]
  }
 ],
 "metadata": {
  "kernelspec": {
   "display_name": "Python 3 (ipykernel)",
   "language": "python",
   "name": "python3"
  },
  "language_info": {
   "codemirror_mode": {
    "name": "ipython",
    "version": 3
   },
   "file_extension": ".py",
   "mimetype": "text/x-python",
   "name": "python",
   "nbconvert_exporter": "python",
   "pygments_lexer": "ipython3",
   "version": "3.11.4"
  }
 },
 "nbformat": 4,
 "nbformat_minor": 5
}
