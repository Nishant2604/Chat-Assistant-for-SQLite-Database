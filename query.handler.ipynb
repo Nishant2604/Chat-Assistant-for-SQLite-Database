{
 "cells": [
  {
   "cell_type": "code",
   "execution_count": null,
   "id": "2ebe3d62",
   "metadata": {},
   "outputs": [],
   "source": [
    "import re\n",
    "import sqlite3\n",
    "import spacy\n",
    "nlp = spacy.load(\"en_core_web_sm\")\n",
    "\n",
    "def get_sql_query(user_input):\n",
    "    \"\"\"Converts user query into an SQL query.\"\"\"\n",
    "    doc = nlp(user_input.lower())\n",
    "\n",
    "    # Identify department names\n",
    "    department_names = [\"sales\", \"engineering\", \"marketing\"]\n",
    "    department = next((token.text.capitalize() for token in doc if token.text.lower() in department_names), None)\n",
    "\n",
    "    # Identify date\n",
    "    date = next((token.text for token in doc if token.ent_type_ == \"DATE\"), None)\n",
    "\n",
    "    # Identify query type\n",
    "    if \"employees\" in user_input and department:\n",
    "        return f\"SELECT * FROM Employees WHERE Department = '{department}';\"\n",
    "    \n",
    "    if \"manager\" in user_input and department:\n",
    "        return f\"SELECT Manager FROM Departments WHERE Name = '{department}';\"\n",
    "    \n",
    "    if \"hired after\" in user_input and date:\n",
    "        return f\"SELECT * FROM Employees WHERE Hire_Date > '{date}';\"\n",
    "    \n",
    "    if \"total salary expense\" in user_input and department:\n",
    "        return f\"SELECT SUM(Salary) FROM Employees WHERE Department = '{department}';\"\n",
    "\n",
    "     if \"total salary expense\" in user_input and \"all\" in user_input:\n",
    "        return f\"SELECT SUM(Salary) FROM Employees;\"\n",
    "         \n",
    "    return None\n",
    "\n",
    "def execute_query(sql):\n",
    "    \"\"\"Executes SQL query and fetches results.\"\"\"\n",
    "    conn = sqlite3.connect(\"company.db\")\n",
    "    cursor = conn.cursor()\n",
    "    cursor.execute(sql)\n",
    "    result = cursor.fetchall()\n",
    "    conn.close()\n",
    "    return result"
   ]
  }
 ],
 "metadata": {
  "kernelspec": {
   "display_name": "Python 3 (ipykernel)",
   "language": "python",
   "name": "python3"
  },
  "language_info": {
   "codemirror_mode": {
    "name": "ipython",
    "version": 3
   },
   "file_extension": ".py",
   "mimetype": "text/x-python",
   "name": "python",
   "nbconvert_exporter": "python",
   "pygments_lexer": "ipython3",
   "version": "3.11.4"
  }
 },
 "nbformat": 4,
 "nbformat_minor": 5
}
